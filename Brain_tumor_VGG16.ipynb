{
 "cells": [
  {
   "cell_type": "code",
   "execution_count": 2,
   "metadata": {},
   "outputs": [
    {
     "ename": "ModuleNotFoundError",
     "evalue": "No module named 'tensorflow'",
     "output_type": "error",
     "traceback": [
      "\u001b[1;31m---------------------------------------------------------------------------\u001b[0m",
      "\u001b[1;31mModuleNotFoundError\u001b[0m                       Traceback (most recent call last)",
      "Cell \u001b[1;32mIn[2], line 3\u001b[0m\n\u001b[0;32m      1\u001b[0m \u001b[38;5;28;01mimport\u001b[39;00m \u001b[38;5;21;01mpandas\u001b[39;00m \u001b[38;5;28;01mas\u001b[39;00m \u001b[38;5;21;01mpd\u001b[39;00m\n\u001b[0;32m      2\u001b[0m \u001b[38;5;28;01mimport\u001b[39;00m \u001b[38;5;21;01mnumpy\u001b[39;00m \u001b[38;5;28;01mas\u001b[39;00m \u001b[38;5;21;01mnp\u001b[39;00m\n\u001b[1;32m----> 3\u001b[0m \u001b[38;5;28;01mimport\u001b[39;00m \u001b[38;5;21;01mtensorflow\u001b[39;00m \u001b[38;5;28;01mas\u001b[39;00m \u001b[38;5;21;01mtf\u001b[39;00m\n\u001b[0;32m      4\u001b[0m \u001b[38;5;28;01mimport\u001b[39;00m \u001b[38;5;21;01mkeras\u001b[39;00m\n\u001b[0;32m      5\u001b[0m \u001b[38;5;28;01mimport\u001b[39;00m \u001b[38;5;21;01mmatplotlib\u001b[39;00m\u001b[38;5;21;01m.\u001b[39;00m\u001b[38;5;21;01mpyplot\u001b[39;00m \u001b[38;5;28;01mas\u001b[39;00m \u001b[38;5;21;01mplt\u001b[39;00m\n",
      "\u001b[1;31mModuleNotFoundError\u001b[0m: No module named 'tensorflow'"
     ]
    }
   ],
   "source": [
    "import pandas as pd\n",
    "import numpy as np\n",
    "import tensorflow as tf\n",
    "import keras\n",
    "import matplotlib.pyplot as plt\n",
    "from tensorflow.keras.layers import Dense, GlobalAveragePooling2D\n",
    "import efficientnet.keras as efn \n",
    "from tensorflow.keras.preprocessing import image\n",
    "from tensorflow.keras.applications.vgg16 import preprocess_input\n",
    "from tensorflow.keras.preprocessing.image import ImageDataGenerator\n",
    "from tensorflow.keras.models import Model\n",
    "from tensorflow.keras.optimizers import Adam\n",
    "from tensorflow.keras.layers import Input\n",
    "from sklearn.metrics import confusion_matrix"
   ]
  },
  {
   "cell_type": "code",
   "execution_count": null,
   "metadata": {},
   "outputs": [],
   "source": [
    "from tensorflow.keras.layers import Activation, Dense"
   ]
  },
  {
   "cell_type": "code",
   "execution_count": null,
   "metadata": {},
   "outputs": [],
   "source": [
    "def get_data_generator(train_data_path, val_data_path, targetsize, classmode, batchsize):\n",
    "\n",
    "    train_datagen = ImageDataGenerator(preprocessing_function=preprocess_input)\n",
    "    val_datagen = ImageDataGenerator(preprocessing_function=preprocess_input)\n",
    "    \n",
    "    train_generator = train_datagen.flow_from_directory(train_data_path,\n",
    "                                                        target_size=targetsize,\n",
    "                                                        color_mode='rgb',\n",
    "                                                        batch_size=batchsize,\n",
    "                                                        class_mode=classmode,\n",
    "                                                        shuffle=True)\n",
    "    \n",
    "    val_generator = val_datagen.flow_from_directory(val_data_path,\n",
    "                                                    target_size=targetsize,\n",
    "                                                    color_mode='rgb',\n",
    "                                                    batch_size=batchsize,\n",
    "                                                    class_mode=classmode,\n",
    "                                                    shuffle=False)\n",
    " \n",
    "    return train_generator, val_generator   \n",
    "    \n",
    "\n",
    "def train_evaluate_the_model(train_generator, val_generator, optimizer, epochs, dropout_value, TheModel):\n",
    "\n",
    "    # Freeze base layers for training\n",
    "    for layer in TheModel.layers:\n",
    "        layer.trainable = False\n",
    "    \n",
    "    # load pretrained model and add layers on top of the model\n",
    "    x = TheModel.output\n",
    "    x = tf.keras.layers.Flatten()(x)\n",
    "    x = Dense(1024, activation=\"relu\")(x)\n",
    "    x = Dense(1024, activation=\"relu\")(x)\n",
    "    x = Dense(512, activation=\"relu\")(x)\n",
    "    x = tf.keras.layers.Dropout(dropout_value)(x)\n",
    "    predictions = Dense(4, activation=\"sigmoid\")(x)\n",
    "    model = Model(inputs=TheModel.input, outputs=predictions)\n",
    "    \n",
    "    # Compile the model\n",
    "    model.compile(optimizer=optimizer,\n",
    "                  loss='categorical_crossentropy',\n",
    "                  metrics=['accuracy'])\n",
    "    \n",
    "    step_size_train = train_generator.n // train_generator.batch_size\n",
    "    \n",
    "    # Fit the model\n",
    "    r = model.fit_generator(generator=train_generator,\n",
    "                            steps_per_epoch=step_size_train,\n",
    "                            epochs=epochs,\n",
    "                            validation_data=val_generator)\n",
    "    \n",
    "    # Evaluate the model\n",
    "    scores = model.evaluate(val_generator)\n",
    "    accuracy = scores[1] * 100\n",
    "    \n",
    "    return accuracy, model\n"
   ]
  },
  {
   "cell_type": "code",
   "execution_count": null,
   "metadata": {},
   "outputs": [],
   "source": []
  }
 ],
 "metadata": {
  "kernelspec": {
   "display_name": "Python 3",
   "language": "python",
   "name": "python3"
  },
  "language_info": {
   "codemirror_mode": {
    "name": "ipython",
    "version": 3
   },
   "file_extension": ".py",
   "mimetype": "text/x-python",
   "name": "python",
   "nbconvert_exporter": "python",
   "pygments_lexer": "ipython3",
   "version": "3.10.11"
  }
 },
 "nbformat": 4,
 "nbformat_minor": 2
}
